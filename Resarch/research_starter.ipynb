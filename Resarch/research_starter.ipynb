{
 "cells": [
  {
   "cell_type": "markdown",
   "id": "9b572f3e",
   "metadata": {},
   "source": [
    "# Getting Started: Market Research\n",
    "This Jupyter notebook is a quick demonstration on how to get started on the market research section."
   ]
  },
  {
   "cell_type": "markdown",
   "id": "0d9a964a",
   "metadata": {},
   "source": [
    "## 1) Download Data\n",
    "Please download the train and test data and place it within the ./research/data path. If you've placed it in the correct place, you should see the following cell work:"
   ]
  },
  {
   "cell_type": "code",
   "execution_count": null,
   "id": "7bdf4114",
   "metadata": {},
   "outputs": [
    {
     "ename": "",
     "evalue": "",
     "output_type": "error",
     "traceback": [
      "\u001b[1;31mRunning cells with '.conda (Python 3.11.13)' requires the ipykernel package.\n",
      "\u001b[1;31mInstall 'ipykernel' into the Python environment. \n",
      "\u001b[1;31mCommand: 'conda install -n .conda ipykernel --update-deps --force-reinstall'"
     ]
    }
   ],
   "source": [
    "import pandas as pd\n",
    "\n",
    "train_data = pd.read_csv('.train.csv')\n",
    "test_data = pd.read_csv('./test.csv')\n",
    "\n",
    "print(train_data.head())\n",
    "print(test_data.head())"
   ]
  },
  {
   "cell_type": "code",
   "execution_count": null,
   "id": "105c87ad",
   "metadata": {},
   "outputs": [],
   "source": []
  },
  {
   "cell_type": "markdown",
   "id": "afc9a46a",
   "metadata": {},
   "source": [
    "## 2) Investigate the Dataset\n",
    "In the datasets, you're given columns of time and A through N, each of which represent some sort of real-life market quantity. In the train dataset, you're also given Y1 and Y2, real-life market quantities you'd like to predict in terms of time and A through N. You're not given Y1 and Y2 in the test set, because this is what you're being asked to predict.\n",
    "\n",
    "Let's do some exploration of the relationships of A - N and Y1. In particular, let's look at the relationship between C and Y1:"
   ]
  },
  {
   "cell_type": "code",
   "execution_count": null,
   "id": "61b619a2",
   "metadata": {},
   "outputs": [],
   "source": [
    "import matplotlib.pyplot as plt\n",
    "\n",
    "plt.figure(figsize=(10, 6))\n",
    "plt.scatter(train_data['C'], train_data['Y1'])\n",
    "plt.xlabel('C')\n",
    "plt.ylabel('Y1')\n",
    "plt.title('Relationship between C and Y1')\n",
    "plt.show()"
   ]
  },
  {
   "cell_type": "code",
   "execution_count": null,
   "id": "430010d5",
   "metadata": {},
   "outputs": [],
   "source": [
    "# Calculate correlation between C and Y1\n",
    "correlation = train_data['C'].corr(train_data['Y1'])\n",
    "print(f\"Correlation between C and Y1: {correlation:.4f}\")"
   ]
  },
  {
   "cell_type": "markdown",
   "id": "4cb1edef",
   "metadata": {},
   "source": [
    "Clearly there's a strong relationship between C and Y1. You should definitely use C to predict Y1!"
   ]
  },
  {
   "cell_type": "markdown",
   "id": "430ba64a",
   "metadata": {},
   "source": [
    "## 3) Submit Predictions\n",
    "In order to submit predictions, we need to make a CSV file with three columns: id, Y1, and Y2. In the below example, we let our predictions of Y1 and Y2 be the means of Y1 and Y2 in the train set."
   ]
  },
  {
   "cell_type": "code",
   "execution_count": null,
   "id": "e20ed794",
   "metadata": {},
   "outputs": [],
   "source": [
    "preds = test_data[['id']]\n",
    "preds['Y1'] = train_data['Y1'].mean()\n",
    "preds['Y2'] = train_data['Y2'].mean()\n",
    "preds"
   ]
  },
  {
   "cell_type": "code",
   "execution_count": null,
   "id": "0d072d58",
   "metadata": {},
   "outputs": [],
   "source": [
    "# save preds to csv\n",
    "preds.to_csv('preds.csv', index=False)"
   ]
  },
  {
   "cell_type": "markdown",
   "id": "3dc988b0",
   "metadata": {},
   "source": [
    "You should now be able to submit preds.csv to [https://quantchallenge.org/dashboard/data/upload-predictions](https://quantchallenge.org/dashboard/data/upload-predictions)! Note that you should receive a public $R^2$ score of $-0.042456$ with this set of predictions. You should try to get the highest possible $R^2$ score over the course of these next few days. Be careful of overfitting to the public score, which is only calculated on a subset of the test data—the final score that counts is the private $R^2$ score!"
   ]
  }
 ],
 "metadata": {
  "kernelspec": {
   "display_name": ".conda",
   "language": "python",
   "name": "python3"
  },
  "language_info": {
   "codemirror_mode": {
    "name": "ipython",
    "version": 3
   },
   "file_extension": ".py",
   "mimetype": "text/x-python",
   "name": "python",
   "nbconvert_exporter": "python",
   "pygments_lexer": "ipython3",
   "version": "3.11.13"
  }
 },
 "nbformat": 4,
 "nbformat_minor": 5
}
